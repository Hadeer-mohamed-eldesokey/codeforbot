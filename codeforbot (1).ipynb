{
  "cells": [
    {
      "cell_type": "code",
      "source": [
        "!pip install botbuilder-core aiohttp"
      ],
      "outputs": [
        {
          "output_type": "stream",
          "name": "stdout",
          "text": "Requirement already satisfied: botbuilder-core in /anaconda/envs/azureml_py38/lib/python3.10/site-packages (4.16.2)\nRequirement already satisfied: aiohttp in /anaconda/envs/azureml_py38/lib/python3.10/site-packages (3.10.1)\nRequirement already satisfied: jsonpickle<1.5,>=1.2 in /anaconda/envs/azureml_py38/lib/python3.10/site-packages (from botbuilder-core) (1.4.2)\nRequirement already satisfied: botframework-streaming==4.16.2 in /anaconda/envs/azureml_py38/lib/python3.10/site-packages (from botbuilder-core) (4.16.2)\nRequirement already satisfied: botframework-connector==4.16.2 in /anaconda/envs/azureml_py38/lib/python3.10/site-packages (from botbuilder-core) (4.16.2)\nRequirement already satisfied: botbuilder-schema==4.16.2 in /anaconda/envs/azureml_py38/lib/python3.10/site-packages (from botbuilder-core) (4.16.2)\nRequirement already satisfied: msrest==0.7.* in /anaconda/envs/azureml_py38/lib/python3.10/site-packages (from botbuilder-schema==4.16.2->botbuilder-core) (0.7.1)\nRequirement already satisfied: urllib3 in /anaconda/envs/azureml_py38/lib/python3.10/site-packages (from botbuilder-schema==4.16.2->botbuilder-core) (1.26.19)\nRequirement already satisfied: msal>=1.29.0 in /anaconda/envs/azureml_py38/lib/python3.10/site-packages (from botframework-connector==4.16.2->botbuilder-core) (1.30.0)\nRequirement already satisfied: PyJWT>=2.4.0 in /anaconda/envs/azureml_py38/lib/python3.10/site-packages (from botframework-connector==4.16.2->botbuilder-core) (2.4.0)\nRequirement already satisfied: requests~=2.16 in /anaconda/envs/azureml_py38/lib/python3.10/site-packages (from msrest==0.7.*->botbuilder-schema==4.16.2->botbuilder-core) (2.25.1)\nRequirement already satisfied: certifi>=2017.4.17 in /anaconda/envs/azureml_py38/lib/python3.10/site-packages (from msrest==0.7.*->botbuilder-schema==4.16.2->botbuilder-core) (2024.8.30)\nRequirement already satisfied: isodate>=0.6.0 in /anaconda/envs/azureml_py38/lib/python3.10/site-packages (from msrest==0.7.*->botbuilder-schema==4.16.2->botbuilder-core) (0.6.1)\nRequirement already satisfied: requests-oauthlib>=0.5.0 in /anaconda/envs/azureml_py38/lib/python3.10/site-packages (from msrest==0.7.*->botbuilder-schema==4.16.2->botbuilder-core) (2.0.0)\nRequirement already satisfied: azure-core>=1.24.0 in /anaconda/envs/azureml_py38/lib/python3.10/site-packages (from msrest==0.7.*->botbuilder-schema==4.16.2->botbuilder-core) (1.30.2)\nRequirement already satisfied: aiosignal>=1.1.2 in /anaconda/envs/azureml_py38/lib/python3.10/site-packages (from aiohttp) (1.3.1)\nRequirement already satisfied: attrs>=17.3.0 in /anaconda/envs/azureml_py38/lib/python3.10/site-packages (from aiohttp) (24.2.0)\nRequirement already satisfied: async-timeout<5.0,>=4.0 in /anaconda/envs/azureml_py38/lib/python3.10/site-packages (from aiohttp) (4.0.3)\nRequirement already satisfied: frozenlist>=1.1.1 in /anaconda/envs/azureml_py38/lib/python3.10/site-packages (from aiohttp) (1.4.1)\nRequirement already satisfied: yarl<2.0,>=1.0 in /anaconda/envs/azureml_py38/lib/python3.10/site-packages (from aiohttp) (1.9.4)\nRequirement already satisfied: aiohappyeyeballs>=2.3.0 in /anaconda/envs/azureml_py38/lib/python3.10/site-packages (from aiohttp) (2.3.5)\nRequirement already satisfied: multidict<7.0,>=4.5 in /anaconda/envs/azureml_py38/lib/python3.10/site-packages (from aiohttp) (6.0.5)\nRequirement already satisfied: idna>=2.0 in /anaconda/envs/azureml_py38/lib/python3.10/site-packages (from yarl<2.0,>=1.0->aiohttp) (2.10)\nRequirement already satisfied: cryptography<45,>=2.5 in /anaconda/envs/azureml_py38/lib/python3.10/site-packages (from msal>=1.29.0->botframework-connector==4.16.2->botbuilder-core) (38.0.4)\nRequirement already satisfied: typing-extensions>=4.6.0 in /anaconda/envs/azureml_py38/lib/python3.10/site-packages (from azure-core>=1.24.0->msrest==0.7.*->botbuilder-schema==4.16.2->botbuilder-core) (4.12.2)\nRequirement already satisfied: six>=1.11.0 in /anaconda/envs/azureml_py38/lib/python3.10/site-packages (from azure-core>=1.24.0->msrest==0.7.*->botbuilder-schema==4.16.2->botbuilder-core) (1.16.0)\nRequirement already satisfied: cffi>=1.12 in /anaconda/envs/azureml_py38/lib/python3.10/site-packages (from cryptography<45,>=2.5->msal>=1.29.0->botframework-connector==4.16.2->botbuilder-core) (1.16.0)\nRequirement already satisfied: chardet<5,>=3.0.2 in /anaconda/envs/azureml_py38/lib/python3.10/site-packages (from requests~=2.16->msrest==0.7.*->botbuilder-schema==4.16.2->botbuilder-core) (3.0.4)\nRequirement already satisfied: oauthlib>=3.0.0 in /anaconda/envs/azureml_py38/lib/python3.10/site-packages (from requests-oauthlib>=0.5.0->msrest==0.7.*->botbuilder-schema==4.16.2->botbuilder-core) (3.2.2)\nRequirement already satisfied: pycparser in /anaconda/envs/azureml_py38/lib/python3.10/site-packages (from cffi>=1.12->cryptography<45,>=2.5->msal>=1.29.0->botframework-connector==4.16.2->botbuilder-core) (2.22)\n"
        }
      ],
      "execution_count": 1,
      "metadata": {
        "jupyter": {
          "source_hidden": false,
          "outputs_hidden": false
        },
        "nteract": {
          "transient": {
            "deleting": false
          }
        }
      }
    },
    {
      "cell_type": "code",
      "source": [
        "!pip install botbuilder"
      ],
      "outputs": [
        {
          "output_type": "stream",
          "name": "stdout",
          "text": "Collecting botbuilder\n  Downloading botbuilder-0.0.1.tar.gz (1.6 kB)\n  Preparing metadata (setup.py) ... \u001b[?25l-\b \b\\\b \bdone\n\u001b[?25hRequirement already satisfied: requests>=2.8.1 in /anaconda/envs/azureml_py38/lib/python3.10/site-packages (from botbuilder) (2.25.1)\nRequirement already satisfied: ujson>=1.33 in /anaconda/envs/azureml_py38/lib/python3.10/site-packages (from botbuilder) (5.10.0)\nRequirement already satisfied: certifi>=2017.4.17 in /anaconda/envs/azureml_py38/lib/python3.10/site-packages (from requests>=2.8.1->botbuilder) (2024.8.30)\nRequirement already satisfied: idna<3,>=2.5 in /anaconda/envs/azureml_py38/lib/python3.10/site-packages (from requests>=2.8.1->botbuilder) (2.10)\nRequirement already satisfied: chardet<5,>=3.0.2 in /anaconda/envs/azureml_py38/lib/python3.10/site-packages (from requests>=2.8.1->botbuilder) (3.0.4)\nRequirement already satisfied: urllib3<1.27,>=1.21.1 in /anaconda/envs/azureml_py38/lib/python3.10/site-packages (from requests>=2.8.1->botbuilder) (1.26.19)\nBuilding wheels for collected packages: botbuilder\n  Building wheel for botbuilder (setup.py) ... \u001b[?25l-\b \b\\\b \b|\b \b/\b \bdone\n\u001b[?25h  Created wheel for botbuilder: filename=botbuilder-0.0.1-py3-none-any.whl size=1737 sha256=84ec552d1547e43e25759b274c05bc2f3b7ba2e75751e349694a2e89e3620a43\n  Stored in directory: /home/azureuser/.cache/pip/wheels/fb/f8/4b/267974aea56612f68eb7b44c60e5978aac0319b11841b0167d\nSuccessfully built botbuilder\nInstalling collected packages: botbuilder\nSuccessfully installed botbuilder-0.0.1\n"
        }
      ],
      "execution_count": 3,
      "metadata": {
        "jupyter": {
          "source_hidden": false,
          "outputs_hidden": false
        },
        "nteract": {
          "transient": {
            "deleting": false
          }
        }
      }
    },
    {
      "cell_type": "code",
      "source": [
        "!pip install botbuilder-ai"
      ],
      "outputs": [
        {
          "output_type": "stream",
          "name": "stdout",
          "text": "Collecting botbuilder-ai\n  Downloading botbuilder_ai-4.16.2-py3-none-any.whl (45 kB)\n\u001b[2K     \u001b[90m━━━━━━━━━━━━━━━━━━━━━━━━━━━━━━━━━━━━━━━━\u001b[0m \u001b[32m45.4/45.4 kB\u001b[0m \u001b[31m4.0 MB/s\u001b[0m eta \u001b[36m0:00:00\u001b[0m\n\u001b[?25hCollecting aiohttp==3.10.5\n  Downloading aiohttp-3.10.5-cp310-cp310-manylinux_2_17_x86_64.manylinux2014_x86_64.whl (1.2 MB)\n\u001b[2K     \u001b[90m━━━━━━━━━━━━━━━━━━━━━━━━━━━━━━━━━━━━━━━━\u001b[0m \u001b[32m1.2/1.2 MB\u001b[0m \u001b[31m30.0 MB/s\u001b[0m eta \u001b[36m0:00:00\u001b[0m00:01\u001b[0m\n\u001b[?25hCollecting azure-cognitiveservices-language-luis==0.2.0\n  Downloading azure_cognitiveservices_language_luis-0.2.0-py2.py3-none-any.whl (244 kB)\n\u001b[2K     \u001b[90m━━━━━━━━━━━━━━━━━━━━━━━━━━━━━━━━━━━━━━\u001b[0m \u001b[32m244.5/244.5 kB\u001b[0m \u001b[31m18.7 MB/s\u001b[0m eta \u001b[36m0:00:00\u001b[0m\n\u001b[?25hRequirement already satisfied: botbuilder-schema==4.16.2 in /anaconda/envs/azureml_py38/lib/python3.10/site-packages (from botbuilder-ai) (4.16.2)\nRequirement already satisfied: botbuilder-core==4.16.2 in /anaconda/envs/azureml_py38/lib/python3.10/site-packages (from botbuilder-ai) (4.16.2)\nCollecting aiounittest>=1.1.0\n  Downloading aiounittest-1.4.2-py3-none-any.whl (7.0 kB)\nRequirement already satisfied: yarl<2.0,>=1.0 in /anaconda/envs/azureml_py38/lib/python3.10/site-packages (from aiohttp==3.10.5->botbuilder-ai) (1.9.4)\nRequirement already satisfied: aiosignal>=1.1.2 in /anaconda/envs/azureml_py38/lib/python3.10/site-packages (from aiohttp==3.10.5->botbuilder-ai) (1.3.1)\nRequirement already satisfied: multidict<7.0,>=4.5 in /anaconda/envs/azureml_py38/lib/python3.10/site-packages (from aiohttp==3.10.5->botbuilder-ai) (6.0.5)\nRequirement already satisfied: frozenlist>=1.1.1 in /anaconda/envs/azureml_py38/lib/python3.10/site-packages (from aiohttp==3.10.5->botbuilder-ai) (1.4.1)\nRequirement already satisfied: async-timeout<5.0,>=4.0 in /anaconda/envs/azureml_py38/lib/python3.10/site-packages (from aiohttp==3.10.5->botbuilder-ai) (4.0.3)\nRequirement already satisfied: aiohappyeyeballs>=2.3.0 in /anaconda/envs/azureml_py38/lib/python3.10/site-packages (from aiohttp==3.10.5->botbuilder-ai) (2.3.5)\nRequirement already satisfied: attrs>=17.3.0 in /anaconda/envs/azureml_py38/lib/python3.10/site-packages (from aiohttp==3.10.5->botbuilder-ai) (24.2.0)\nRequirement already satisfied: msrestazure<2.0.0,>=0.4.32 in /anaconda/envs/azureml_py38/lib/python3.10/site-packages (from azure-cognitiveservices-language-luis==0.2.0->botbuilder-ai) (0.6.4.post1)\nRequirement already satisfied: msrest>=0.5.0 in /anaconda/envs/azureml_py38/lib/python3.10/site-packages (from azure-cognitiveservices-language-luis==0.2.0->botbuilder-ai) (0.7.1)\nRequirement already satisfied: azure-common~=1.1 in /anaconda/envs/azureml_py38/lib/python3.10/site-packages (from azure-cognitiveservices-language-luis==0.2.0->botbuilder-ai) (1.1.28)\nRequirement already satisfied: jsonpickle<1.5,>=1.2 in /anaconda/envs/azureml_py38/lib/python3.10/site-packages (from botbuilder-core==4.16.2->botbuilder-ai) (1.4.2)\nRequirement already satisfied: botframework-streaming==4.16.2 in /anaconda/envs/azureml_py38/lib/python3.10/site-packages (from botbuilder-core==4.16.2->botbuilder-ai) (4.16.2)\nRequirement already satisfied: botframework-connector==4.16.2 in /anaconda/envs/azureml_py38/lib/python3.10/site-packages (from botbuilder-core==4.16.2->botbuilder-ai) (4.16.2)\nRequirement already satisfied: urllib3 in /anaconda/envs/azureml_py38/lib/python3.10/site-packages (from botbuilder-schema==4.16.2->botbuilder-ai) (1.26.19)\nRequirement already satisfied: PyJWT>=2.4.0 in /anaconda/envs/azureml_py38/lib/python3.10/site-packages (from botframework-connector==4.16.2->botbuilder-core==4.16.2->botbuilder-ai) (2.4.0)\nRequirement already satisfied: msal>=1.29.0 in /anaconda/envs/azureml_py38/lib/python3.10/site-packages (from botframework-connector==4.16.2->botbuilder-core==4.16.2->botbuilder-ai) (1.30.0)\nRequirement already satisfied: isodate>=0.6.0 in /anaconda/envs/azureml_py38/lib/python3.10/site-packages (from msrest>=0.5.0->azure-cognitiveservices-language-luis==0.2.0->botbuilder-ai) (0.6.1)\nRequirement already satisfied: azure-core>=1.24.0 in /anaconda/envs/azureml_py38/lib/python3.10/site-packages (from msrest>=0.5.0->azure-cognitiveservices-language-luis==0.2.0->botbuilder-ai) (1.30.2)\nRequirement already satisfied: requests-oauthlib>=0.5.0 in /anaconda/envs/azureml_py38/lib/python3.10/site-packages (from msrest>=0.5.0->azure-cognitiveservices-language-luis==0.2.0->botbuilder-ai) (2.0.0)\nRequirement already satisfied: requests~=2.16 in /anaconda/envs/azureml_py38/lib/python3.10/site-packages (from msrest>=0.5.0->azure-cognitiveservices-language-luis==0.2.0->botbuilder-ai) (2.25.1)\nRequirement already satisfied: certifi>=2017.4.17 in /anaconda/envs/azureml_py38/lib/python3.10/site-packages (from msrest>=0.5.0->azure-cognitiveservices-language-luis==0.2.0->botbuilder-ai) (2024.8.30)\nRequirement already satisfied: wrapt in /anaconda/envs/azureml_py38/lib/python3.10/site-packages (from aiounittest>=1.1.0->botbuilder-ai) (1.14.1)\nRequirement already satisfied: six in /anaconda/envs/azureml_py38/lib/python3.10/site-packages (from msrestazure<2.0.0,>=0.4.32->azure-cognitiveservices-language-luis==0.2.0->botbuilder-ai) (1.16.0)\nRequirement already satisfied: adal<2.0.0,>=0.6.0 in /anaconda/envs/azureml_py38/lib/python3.10/site-packages (from msrestazure<2.0.0,>=0.4.32->azure-cognitiveservices-language-luis==0.2.0->botbuilder-ai) (1.2.7)\nRequirement already satisfied: idna>=2.0 in /anaconda/envs/azureml_py38/lib/python3.10/site-packages (from yarl<2.0,>=1.0->aiohttp==3.10.5->botbuilder-ai) (2.10)\nRequirement already satisfied: cryptography>=1.1.0 in /anaconda/envs/azureml_py38/lib/python3.10/site-packages (from adal<2.0.0,>=0.6.0->msrestazure<2.0.0,>=0.4.32->azure-cognitiveservices-language-luis==0.2.0->botbuilder-ai) (38.0.4)\nRequirement already satisfied: python-dateutil<3,>=2.1.0 in /anaconda/envs/azureml_py38/lib/python3.10/site-packages (from adal<2.0.0,>=0.6.0->msrestazure<2.0.0,>=0.4.32->azure-cognitiveservices-language-luis==0.2.0->botbuilder-ai) (2.9.0.post0)\nRequirement already satisfied: typing-extensions>=4.6.0 in /anaconda/envs/azureml_py38/lib/python3.10/site-packages (from azure-core>=1.24.0->msrest>=0.5.0->azure-cognitiveservices-language-luis==0.2.0->botbuilder-ai) (4.12.2)\nRequirement already satisfied: chardet<5,>=3.0.2 in /anaconda/envs/azureml_py38/lib/python3.10/site-packages (from requests~=2.16->msrest>=0.5.0->azure-cognitiveservices-language-luis==0.2.0->botbuilder-ai) (3.0.4)\nRequirement already satisfied: oauthlib>=3.0.0 in /anaconda/envs/azureml_py38/lib/python3.10/site-packages (from requests-oauthlib>=0.5.0->msrest>=0.5.0->azure-cognitiveservices-language-luis==0.2.0->botbuilder-ai) (3.2.2)\nRequirement already satisfied: cffi>=1.12 in /anaconda/envs/azureml_py38/lib/python3.10/site-packages (from cryptography>=1.1.0->adal<2.0.0,>=0.6.0->msrestazure<2.0.0,>=0.4.32->azure-cognitiveservices-language-luis==0.2.0->botbuilder-ai) (1.16.0)\nRequirement already satisfied: pycparser in /anaconda/envs/azureml_py38/lib/python3.10/site-packages (from cffi>=1.12->cryptography>=1.1.0->adal<2.0.0,>=0.6.0->msrestazure<2.0.0,>=0.4.32->azure-cognitiveservices-language-luis==0.2.0->botbuilder-ai) (2.22)\nInstalling collected packages: aiounittest, aiohttp, azure-cognitiveservices-language-luis, botbuilder-ai\n  Attempting uninstall: aiohttp\n    Found existing installation: aiohttp 3.10.1\n    Uninstalling aiohttp-3.10.1:\n      Successfully uninstalled aiohttp-3.10.1\n\u001b[31mERROR: pip's dependency resolver does not currently take into account all the packages that are installed. This behaviour is the source of the following dependency conflicts.\nazureml-automl-dnn-nlp 1.57.0 requires torch==1.13.1, but you have torch 2.4.1 which is incompatible.\nadlfs 2024.7.0 requires fsspec>=2023.12.0, but you have fsspec 2023.10.0 which is incompatible.\u001b[0m\u001b[31m\n\u001b[0mSuccessfully installed aiohttp-3.10.5 aiounittest-1.4.2 azure-cognitiveservices-language-luis-0.2.0 botbuilder-ai-4.16.2\n"
        }
      ],
      "execution_count": 7,
      "metadata": {
        "jupyter": {
          "source_hidden": false,
          "outputs_hidden": false
        },
        "nteract": {
          "transient": {
            "deleting": false
          }
        },
        "gather": {
          "logged": 1731065379216
        }
      }
    },
    {
      "cell_type": "code",
      "source": [
        "!pip show botbuilder-ai\n",
        "!pip show aiohttp\n",
        "!pip show azure-cognitiveservices-language-luis\n"
      ],
      "outputs": [
        {
          "output_type": "stream",
          "name": "stdout",
          "text": "Name: botbuilder-ai\nVersion: 4.16.2\nSummary: Microsoft Bot Framework Bot Builder\nHome-page: https://www.github.com/Microsoft/botbuilder-python\nAuthor: Microsoft\nAuthor-email: \nLicense: MIT\nLocation: /anaconda/envs/azureml_py38/lib/python3.10/site-packages\nRequires: aiohttp, aiounittest, azure-cognitiveservices-language-luis, botbuilder-core, botbuilder-schema\nRequired-by: \nName: aiohttp\nVersion: 3.10.5\nSummary: Async http client/server framework (asyncio)\nHome-page: https://github.com/aio-libs/aiohttp\nAuthor: \nAuthor-email: \nLicense: Apache 2\nLocation: /anaconda/envs/azureml_py38/lib/python3.10/site-packages\nRequires: aiohappyeyeballs, aiosignal, async-timeout, attrs, frozenlist, multidict, yarl\nRequired-by: adlfs, aiohttp-cors, botbuilder-ai, datasets\nName: azure-cognitiveservices-language-luis\nVersion: 0.2.0\nSummary: Microsoft Azure Cognitive Services LUIS Client Library for Python\nHome-page: https://github.com/Azure/azure-sdk-for-python\nAuthor: Microsoft Corporation\nAuthor-email: azpysdkhelp@microsoft.com\nLicense: MIT License\nLocation: /anaconda/envs/azureml_py38/lib/python3.10/site-packages\nRequires: azure-common, msrest, msrestazure\nRequired-by: botbuilder-ai\n"
        }
      ],
      "execution_count": 9,
      "metadata": {
        "jupyter": {
          "source_hidden": false,
          "outputs_hidden": false
        },
        "nteract": {
          "transient": {
            "deleting": false
          }
        }
      }
    },
    {
      "cell_type": "code",
      "source": [
        "import json\n",
        "import requests\n",
        "from botbuilder.core import ActivityHandler, MessageFactory\n",
        "from botbuilder.schema import ChannelAccount\n",
        "\n",
        "class MyBot(ActivityHandler):\n",
        "    def __init__(self):\n",
        "        self.scoring_uri = \"http://8877b5ca-e8cc-4c8c-89de-cd70256576f4.eastus2.azurecontainer.io/score\"\n",
        "\n",
        "    async def on_message_activity(self, turn_context):\n",
        "        user_input = turn_context.activity.text\n",
        "        \n",
        "        # Prepare payload and headers\n",
        "        input_data = {\"input_text\": user_input}\n",
        "        headers = {\n",
        "            \"Content-Type\": \"application/json\",\n",
        "            \"Authorization\": f\"Bearer {self.api_key}\" if self.api_key else None\n",
        "        }\n",
        "        \n",
        "        # Send request to the model\n",
        "        try:\n",
        "            response = requests.post(self.scoring_uri, headers=headers, data=json.dumps(input_data))\n",
        "            if response.status_code == 200:\n",
        "                model_response = response.json().get(\"response\", \"Sorry, I didn't understand that.\")\n",
        "            else:\n",
        "                model_response = f\"Error {response.status_code}: {response.text}\"\n",
        "        except Exception as e:\n",
        "            model_response = f\"Request failed: {e}\"\n",
        "        \n",
        "        # Send model response back to user\n",
        "        await turn_context.send_activity(MessageFactory.text(model_response))\n"
      ],
      "outputs": [],
      "execution_count": 11,
      "metadata": {
        "gather": {
          "logged": 1731065575296
        }
      }
    },
    {
      "cell_type": "code",
      "source": [],
      "outputs": [],
      "execution_count": null,
      "metadata": {
        "jupyter": {
          "source_hidden": false,
          "outputs_hidden": false
        },
        "nteract": {
          "transient": {
            "deleting": false
          }
        }
      }
    }
  ],
  "metadata": {
    "kernelspec": {
      "name": "python310-sdkv2",
      "language": "python",
      "display_name": "Python 3.10 - SDK v2"
    },
    "language_info": {
      "name": "python",
      "version": "3.10.14",
      "mimetype": "text/x-python",
      "codemirror_mode": {
        "name": "ipython",
        "version": 3
      },
      "pygments_lexer": "ipython3",
      "nbconvert_exporter": "python",
      "file_extension": ".py"
    },
    "microsoft": {
      "ms_spell_check": {
        "ms_spell_check_language": "en"
      }
    },
    "kernel_info": {
      "name": "python310-sdkv2"
    },
    "nteract": {
      "version": "nteract-front-end@1.0.0"
    }
  },
  "nbformat": 4,
  "nbformat_minor": 2
}
{
 "cells": [
  {
   "cell_type": "code",
   "execution_count": 11,
   "metadata": {
    "gather": {
     "logged": 1731065575296
    }
   },
   "outputs": [],
   "source": [
    "import json\n",
    "import requests\n",
    "from botbuilder.core import ActivityHandler, MessageFactory\n",
    "from botbuilder.schema import ChannelAccount\n",
    "\n",
    "class MyBot(ActivityHandler):\n",
    "    def __init__(self):\n",
    "        self.scoring_uri = \"http://8877b5ca-e8cc-4c8c-89de-cd70256576f4.eastus2.azurecontainer.io/score\"\n",
    "\n",
    "    async def on_message_activity(self, turn_context):\n",
    "        user_input = turn_context.activity.text\n",
    "        \n",
    "        # Prepare payload and headers\n",
    "        input_data = {\"input_text\": user_input}\n",
    "        headers = {\n",
    "            \"Content-Type\": \"application/json\",\n",
    "            \"Authorization\": f\"Bearer {self.api_key}\" if self.api_key else None\n",
    "        }\n",
    "        \n",
    "        # Send request to the model\n",
    "        try:\n",
    "            response = requests.post(self.scoring_uri, headers=headers, data=json.dumps(input_data))\n",
    "            if response.status_code == 200:\n",
    "                model_response = response.json().get(\"response\", \"Sorry, I didn't understand that.\")\n",
    "            else:\n",
    "                model_response = f\"Error {response.status_code}: {response.text}\"\n",
    "        except Exception as e:\n",
    "            model_response = f\"Request failed: {e}\"\n",
    "        \n",
    "        # Send model response back to user\n",
    "        await turn_context.send_activity(MessageFactory.text(model_response))\n"
   ]
  },
  {
   "cell_type": "code",
   "execution_count": null,
   "metadata": {
    "jupyter": {
     "outputs_hidden": false,
     "source_hidden": false
    },
    "nteract": {
     "transient": {
      "deleting": false
     }
    }
   },
   "outputs": [],
   "source": []
  }
 ],
 "metadata": {
  "kernel_info": {
   "name": "python310-sdkv2"
  },
  "kernelspec": {
   "display_name": "Python 3.10 - SDK v2",
   "language": "python",
   "name": "python310-sdkv2"
  },
  "language_info": {
   "codemirror_mode": {
    "name": "ipython",
    "version": 3
   },
   "file_extension": ".py",
   "mimetype": "text/x-python",
   "name": "python",
   "nbconvert_exporter": "python",
   "pygments_lexer": "ipython3",
   "version": "3.10.14"
  },
  "microsoft": {
   "ms_spell_check": {
    "ms_spell_check_language": "en"
   }
  },
  "nteract": {
   "version": "nteract-front-end@1.0.0"
  }
 },
 "nbformat": 4,
 "nbformat_minor": 2
}
